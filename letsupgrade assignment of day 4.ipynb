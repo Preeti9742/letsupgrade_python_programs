{
 "cells": [
  {
   "cell_type": "code",
   "execution_count": 7,
   "metadata": {},
   "outputs": [],
   "source": [
    "# assignment Q1\n",
    "\n",
    "abc=open(\"text\",'w')\n",
    "abc.write(\"I LOVE LETSUPGRADE\\n\")\n",
    "abc.close()"
   ]
  },
  {
   "cell_type": "code",
   "execution_count": 9,
   "metadata": {},
   "outputs": [
    {
     "name": "stdout",
     "output_type": "stream",
     "text": [
      "I LOVE LETSUPGRADE\n",
      "IT IS AN AMAZING PLATFORM\n"
     ]
    }
   ],
   "source": [
    "abc=open(\"text\",'r+')\n",
    "print(abc.read())\n",
    "abc.write(\"IT IS AN AMAZING PLATFORM\")\n",
    "abc.close()"
   ]
  },
  {
   "cell_type": "code",
   "execution_count": 11,
   "metadata": {},
   "outputs": [
    {
     "name": "stdout",
     "output_type": "stream",
     "text": [
      "Enter a number: 5\n",
      "120\n"
     ]
    }
   ],
   "source": [
    "num = input(\"Enter a number: \")\n",
    "def recur_factorial(n):\n",
    "    if n == 1:\n",
    "       return n\n",
    "    elif n < 1:\n",
    "       return (\"NA\")\n",
    "    else:\n",
    "       return n*recur_factorial(n-1)\n",
    "print (recur_factorial(int(num)))"
   ]
  },
  {
   "cell_type": "code",
   "execution_count": null,
   "metadata": {},
   "outputs": [],
   "source": []
  }
 ],
 "metadata": {
  "kernelspec": {
   "display_name": "Python 3",
   "language": "python",
   "name": "python3"
  },
  "language_info": {
   "codemirror_mode": {
    "name": "ipython",
    "version": 3
   },
   "file_extension": ".py",
   "mimetype": "text/x-python",
   "name": "python",
   "nbconvert_exporter": "python",
   "pygments_lexer": "ipython3",
   "version": "3.8.3"
  }
 },
 "nbformat": 4,
 "nbformat_minor": 4
}
